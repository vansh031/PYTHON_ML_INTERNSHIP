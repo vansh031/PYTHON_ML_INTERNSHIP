{
 "cells": [
  {
   "cell_type": "code",
   "execution_count": 1,
   "id": "be9fc3a1-c462-4828-9292-34083f2e9b11",
   "metadata": {},
   "outputs": [
    {
     "data": {
      "text/plain": [
       "4"
      ]
     },
     "execution_count": 1,
     "metadata": {},
     "output_type": "execute_result"
    }
   ],
   "source": [
    "l = [1,2,3,4,5]\n",
    "l[3]"
   ]
  },
  {
   "cell_type": "code",
   "execution_count": 4,
   "id": "ef05ef74-e500-4dfc-af36-f22a874291c1",
   "metadata": {},
   "outputs": [
    {
     "name": "stdout",
     "output_type": "stream",
     "text": [
      "Hello world\n",
      "[1, 2, 3, 4, 5]\n",
      "4\n"
     ]
    },
    {
     "ename": "IndexError",
     "evalue": "list index out of range",
     "output_type": "error",
     "traceback": [
      "\u001b[1;31m---------------------------------------------------------------------------\u001b[0m",
      "\u001b[1;31mIndexError\u001b[0m                                Traceback (most recent call last)",
      "Cell \u001b[1;32mIn[4], line 5\u001b[0m\n\u001b[0;32m      3\u001b[0m \u001b[38;5;28mprint\u001b[39m(l)\n\u001b[0;32m      4\u001b[0m \u001b[38;5;28mprint\u001b[39m(l[\u001b[38;5;241m3\u001b[39m])\n\u001b[1;32m----> 5\u001b[0m \u001b[43ml\u001b[49m\u001b[43m[\u001b[49m\u001b[38;5;241;43m7\u001b[39;49m\u001b[43m]\u001b[49m \u001b[38;5;66;03m#not a syntax error but it is run time error ( becz it is out of range ) we will use exception handling \u001b[39;00m\n\u001b[0;32m      6\u001b[0m \u001b[38;5;28mprint\u001b[39m(\u001b[38;5;124m\"\u001b[39m\u001b[38;5;124mEnd of code\u001b[39m\u001b[38;5;124m\"\u001b[39m)\n",
      "\u001b[1;31mIndexError\u001b[0m: list index out of range"
     ]
    }
   ],
   "source": [
    "#error code\n",
    "print(\"Hello world\")\n",
    "print(l)\n",
    "print(l[3])\n",
    "l[7] #not a syntax error but it is run time error ( becz it is out of range ) we will use exception handling \n",
    "print(\"End of code\")"
   ]
  },
  {
   "cell_type": "code",
   "execution_count": 6,
   "id": "5cb447b9-7ab9-438f-8eae-b2728225ac00",
   "metadata": {},
   "outputs": [
    {
     "name": "stdout",
     "output_type": "stream",
     "text": [
      "Hello world\n",
      "[1, 2, 3, 4, 5]\n",
      "4\n",
      "invalid index\n",
      "End of code\n"
     ]
    }
   ],
   "source": [
    "#Applying exceptional handling code\n",
    "print(\"Hello world\")\n",
    "print(l)\n",
    "print(l[3])\n",
    "try:\n",
    "    l[7]\n",
    "except:\n",
    "    print(\"invalid index\")\n",
    "    \n",
    "print(\"End of code\")"
   ]
  },
  {
   "cell_type": "code",
   "execution_count": 7,
   "id": "3166df4e-8545-4fac-911f-f169b2bf785b",
   "metadata": {},
   "outputs": [
    {
     "name": "stdout",
     "output_type": "stream",
     "text": [
      "b cant be zero\n",
      "code executed sussfully\n"
     ]
    }
   ],
   "source": [
    "#Using finally\n",
    "a=10\n",
    "b=0\n",
    "\n",
    "try:\n",
    "    print(a/b)\n",
    "except:\n",
    "    print(\"b cant be zero\")\n",
    "finally: #it will work in all the codition even if it have error\n",
    "    print(\"code executed sussfully\")"
   ]
  },
  {
   "cell_type": "code",
   "execution_count": 3,
   "id": "bd69cd13-4ca5-45f0-a9d7-d78416d49b26",
   "metadata": {},
   "outputs": [
    {
     "name": "stdout",
     "output_type": "stream",
     "text": [
      "b cant be zero\n",
      "code executed sussfully\n"
     ]
    }
   ],
   "source": [
    "#With error\n",
    "a=10\n",
    "b=0\n",
    "\n",
    "try:\n",
    "    print(a/b)\n",
    "except ZeroDivisionError:\n",
    "    print(\"b cant be zero\")\n",
    "finally: #it will work in all the codition even if it have error\n",
    "    print(\"code executed sussfully\")"
   ]
  },
  {
   "cell_type": "code",
   "execution_count": 8,
   "id": "1983c9c8-9b8d-4eaf-ad9a-3950365f6aa8",
   "metadata": {},
   "outputs": [
    {
     "name": "stdout",
     "output_type": "stream",
     "text": [
      "2.0\n",
      "b cant be zero\n",
      "code executed sussfully\n"
     ]
    }
   ],
   "source": [
    "#without error\n",
    "a=10\n",
    "b=5\n",
    "\n",
    "try:\n",
    "    print(a/b)\n",
    "    l[8]\n",
    "except:\n",
    "    print(\"b cant be zero\")\n",
    "finally: #it will work in all the codition even if it have error\n",
    "    print(\"code executed sussfully\")"
   ]
  }
 ],
 "metadata": {
  "kernelspec": {
   "display_name": "Python 3 (ipykernel)",
   "language": "python",
   "name": "python3"
  },
  "language_info": {
   "codemirror_mode": {
    "name": "ipython",
    "version": 3
   },
   "file_extension": ".py",
   "mimetype": "text/x-python",
   "name": "python",
   "nbconvert_exporter": "python",
   "pygments_lexer": "ipython3",
   "version": "3.12.4"
  }
 },
 "nbformat": 4,
 "nbformat_minor": 5
}
