{
 "cells": [
  {
   "cell_type": "code",
   "execution_count": 1,
   "id": "7f863018-19cf-4dfc-ae76-9b6e9a557b55",
   "metadata": {},
   "outputs": [
    {
     "name": "stdout",
     "output_type": "stream",
     "text": [
      "8\n"
     ]
    }
   ],
   "source": [
    "a =2 \n",
    "b = 3\n",
    "c =  a**b\n",
    "print(c)"
   ]
  },
  {
   "cell_type": "code",
   "execution_count": 2,
   "id": "cb7d1ab8-5a73-4a79-bd73-286476acdc2a",
   "metadata": {},
   "outputs": [
    {
     "name": "stdin",
     "output_type": "stream",
     "text": [
      "enter your expression 5.6+6.3\n"
     ]
    },
    {
     "name": "stdout",
     "output_type": "stream",
     "text": [
      "11.899999999999999\n"
     ]
    }
   ],
   "source": [
    "str = input(\"enter your expression\")\n",
    "op=\"\"\n",
    "for i in str:\n",
    "    if i in \"+-*/\":\n",
    "        op=i\n",
    "\n",
    "str=str.replace(op,\" \")\n",
    "l=str.split(\" \" )\n",
    "\n",
    "if op=='+':\n",
    "    print(float(l[0])+float(l[1]))\n",
    "elif op=='-':\n",
    "    print(float(l[0])-float(l[1]))                \n",
    "elif op=='*':\n",
    "    print(float(l[0])*float(l[1]))   \n",
    "elif op=='/':\n",
    "    print(float(l[0])/float([1]))\n",
    "else:\n",
    "     print(\"invalid operator\")"
   ]
  },
  {
   "cell_type": "code",
   "execution_count": 5,
   "id": "9a3c6c76-82fb-46ce-bfbb-37f690505c03",
   "metadata": {},
   "outputs": [
    {
     "name": "stdout",
     "output_type": "stream",
     "text": [
      "{1: 2, 2: 3, 3: 3, 4: 1}\n"
     ]
    }
   ],
   "source": [
    "DIP={'A':1,'B':1 ,'C':2,'D':3,'E':2,'F':2,'G':3,'H':4 ,'I':3}\n",
    "\n",
    "DOP={}\n",
    "\n",
    "for i in DIP.values():\n",
    "    if i in DOP.keys():\n",
    "        DOP[i]=DOP[i]+1\n",
    "    else:\n",
    "        DOP[i]=1\n",
    "\n",
    "print(DOP)"
   ]
  },
  {
   "cell_type": "code",
   "execution_count": 4,
   "id": "beaa8d4b-188f-4e73-b962-1f2f4c87da5e",
   "metadata": {},
   "outputs": [
    {
     "name": "stdout",
     "output_type": "stream",
     "text": [
      "7\n",
      "None\n"
     ]
    }
   ],
   "source": [
    "def addnum(a,b):\n",
    "    c=a+b\n",
    "    print(c)\n",
    "    return\n",
    " \n",
    "if __name__==\"__main__\":\n",
    "    result = addnum(2,5) \n",
    "    print(result)"
   ]
  },
  {
   "cell_type": "code",
   "execution_count": 6,
   "id": "cc6be9f6-b841-48cd-9511-c9e00a0004e6",
   "metadata": {},
   "outputs": [
    {
     "name": "stdin",
     "output_type": "stream",
     "text": [
      " 3\n",
      " 4\n"
     ]
    },
    {
     "name": "stdout",
     "output_type": "stream",
     "text": [
      "7\n"
     ]
    }
   ],
   "source": [
    "def addnum():\n",
    "    a=int(input())\n",
    "    b=int(input())\n",
    "    c=a+b\n",
    "    print(c)\n",
    "    return\n",
    "\n",
    "if __name__==\"__main__\":\n",
    "    addnum() "
   ]
  },
  {
   "cell_type": "code",
   "execution_count": 7,
   "id": "bbc207cc-1c43-469c-9011-49eb44c60b59",
   "metadata": {},
   "outputs": [
    {
     "name": "stdin",
     "output_type": "stream",
     "text": [
      " 5\n"
     ]
    },
    {
     "name": "stdout",
     "output_type": "stream",
     "text": [
      "NOT PRIME\n"
     ]
    }
   ],
   "source": [
    "def pr(a):\n",
    "    if(a!=2 or a!=1):\n",
    "          for i in range(3,a):          \n",
    "                if(a%2!=0 and a%1!=0):\n",
    "                   continue\n",
    "                else:\n",
    "                    return 0\n",
    "                return 1\n",
    "    else:\n",
    "        if a==2:\n",
    "            return 1\n",
    "        else:\n",
    "            return 0\n",
    "b=int(input())\n",
    "r=pr(b)\n",
    "if r==0:\n",
    "     print(\"NOT PRIME\")\n",
    "else:\n",
    "     print(\"PRIME\")"
   ]
  },
  {
   "cell_type": "code",
   "execution_count": 10,
   "id": "c0bd71ae-62ef-43b4-97c6-5265c50b9c2d",
   "metadata": {},
   "outputs": [
    {
     "name": "stdin",
     "output_type": "stream",
     "text": [
      "enter the string civic\n"
     ]
    },
    {
     "name": "stdout",
     "output_type": "stream",
     "text": [
      "PALINDROME\n"
     ]
    }
   ],
   "source": [
    "ab=input(\"enter the string\")\n",
    "pr=reversed(ab)\n",
    "if list(ab)==list(pr):\n",
    "    print(\"PALINDROME\")\n",
    "else:\n",
    "    print(\"NOT PALINDROME\") "
   ]
  },
  {
   "cell_type": "code",
   "execution_count": 4,
   "id": "bdd16d7f-aabf-44e1-a252-8f194314a1f9",
   "metadata": {},
   "outputs": [
    {
     "name": "stdout",
     "output_type": "stream",
     "text": [
      "[0, 2, 4, 6, 8, 10, 12, 14, 16, 18, 20, 22, 24, 26, 28, 30, 32, 34, 36, 38, 40, 42, 44, 46, 48, 50, 52, 54, 56, 58, 60, 62, 64, 66, 68, 70, 72, 74, 76, 78, 80, 82, 84, 86, 88, 90, 92, 94, 96, 98]\n",
      "[True]\n"
     ]
    }
   ],
   "source": [
    "l=[]\n",
    "for i in range(0,100,2):\n",
    "    l.append(i)\n",
    "    \n",
    "l2=[i in range(0,100,2)]\n",
    "    \n",
    "print(l)\n",
    "print(l2)"
   ]
  },
  {
   "cell_type": "code",
   "execution_count": 5,
   "id": "92970275-9aad-445f-9600-631603a620d7",
   "metadata": {},
   "outputs": [
    {
     "name": "stdin",
     "output_type": "stream",
     "text": [
      " 1\n",
      " 2\n",
      " 3\n",
      " 4\n",
      " 5\n",
      " 6\n",
      " 7\n",
      " 8\n",
      " 2\n",
      " 3\n"
     ]
    },
    {
     "name": "stdout",
     "output_type": "stream",
     "text": [
      "['1', '2', '3', '4', '5', '6', '7', '8', '2', '3']\n"
     ]
    }
   ],
   "source": [
    "l=[]\n",
    "\n",
    "for i in range(0,10):\n",
    "    a=input()\n",
    "    l.append(a)\n",
    "\n",
    "print(l)\n"
   ]
  },
  {
   "cell_type": "code",
   "execution_count": 12,
   "id": "b9bb554e-32e2-4e1a-a1a0-06a3cc6e1fa9",
   "metadata": {},
   "outputs": [
    {
     "name": "stdin",
     "output_type": "stream",
     "text": [
      " vansh slathia miet\n"
     ]
    },
    {
     "name": "stdout",
     "output_type": "stream",
     "text": [
      "[['vansh', 'slathia', 'miet']]\n"
     ]
    }
   ],
   "source": [
    "l=[list(map(str,input().split()))]\n",
    "\n",
    "   \n",
    "print(l)"
   ]
  },
  {
   "cell_type": "code",
   "execution_count": 13,
   "id": "56b976d7-2915-441a-bbab-9dc2006bd172",
   "metadata": {},
   "outputs": [
    {
     "name": "stdin",
     "output_type": "stream",
     "text": [
      " 1 2 3 4\n"
     ]
    },
    {
     "name": "stdout",
     "output_type": "stream",
     "text": [
      "[('1', '2', '3', '4')]\n"
     ]
    }
   ],
   "source": [
    "l=[tuple(map(str,input().split()))]\n",
    "\n",
    "   \n",
    "print(l)"
   ]
  },
  {
   "cell_type": "code",
   "execution_count": 18,
   "id": "2acc2a7a-5e1a-457c-9ddd-e5476f4c9fce",
   "metadata": {},
   "outputs": [
    {
     "name": "stdout",
     "output_type": "stream",
     "text": [
      "11\n",
      "22\n",
      "this is fun1 from class B\n"
     ]
    }
   ],
   "source": [
    "class A:\n",
    "    def __init__(self):\n",
    "        self.a=10\n",
    "        self.b=20\n",
    "    def fun1(self):\n",
    "        print(\"this is fun1 from class A\")\n",
    "        \n",
    "class B(A):\n",
    "    def __init__(self):\n",
    "        self.a=11\n",
    "        self.b=22\n",
    "    def fun1(self):\n",
    "        print(\"this is fun1 from class B\")\n",
    "\n",
    "if __name__==\"__main__\":\n",
    "    obj =B()\n",
    "\n",
    "    print(obj.a)\n",
    "    print(obj.b)\n",
    "    obj.fun1()"
   ]
  },
  {
   "cell_type": "code",
   "execution_count": 7,
   "id": "f5f0b864-d40e-4e75-9293-24277508a9f7",
   "metadata": {},
   "outputs": [
    {
     "name": "stdout",
     "output_type": "stream",
     "text": [
      "int32\n"
     ]
    },
    {
     "data": {
      "text/plain": [
       "array([1, 2, 3, 4, 5], dtype=int16)"
      ]
     },
     "execution_count": 7,
     "metadata": {},
     "output_type": "execute_result"
    }
   ],
   "source": [
    "import numpy as np\n",
    "arr=np.array([1,2,3,4,5])\n",
    "arr\n",
    "print(arr.dtype)\n",
    "arr2=np.array([1,2,3,4,5],dtype=np.int16)\n",
    "arr2\n",
    "#array([1,2,3,4,5],dtype=int16)"
   ]
  },
  {
   "cell_type": "code",
   "execution_count": null,
   "id": "9375979d-9aa4-49c4-8b67-8d9900672d7c",
   "metadata": {},
   "outputs": [],
   "source": [
    "ar2=np.array([[1,2,3],[4,5,6],[7,8,9]])"
   ]
  },
  {
   "cell_type": "code",
   "execution_count": 10,
   "id": "e6783c50-6849-474b-a998-6fc11034f1a8",
   "metadata": {},
   "outputs": [
    {
     "data": {
      "text/plain": [
       "array([[ 1,  2,  3],\n",
       "       [ 4,  5, 60]])"
      ]
     },
     "execution_count": 10,
     "metadata": {},
     "output_type": "execute_result"
    }
   ],
   "source": [
    "ar2=np.array([[1,2,3],[4,5,60]])\n",
    "ar2"
   ]
  },
  {
   "cell_type": "code",
   "execution_count": 14,
   "id": "2375f893-2b40-4f17-b99f-c5115eac659a",
   "metadata": {},
   "outputs": [
    {
     "data": {
      "text/plain": [
       "array([[0., 0., 0., 0., 0.],\n",
       "       [0., 0., 0., 0., 0.],\n",
       "       [0., 0., 0., 0., 0.],\n",
       "       [0., 0., 0., 0., 0.],\n",
       "       [0., 0., 0., 0., 0.]])"
      ]
     },
     "execution_count": 14,
     "metadata": {},
     "output_type": "execute_result"
    }
   ],
   "source": [
    "z1=np.zeros([5,5])\n",
    "z1"
   ]
  },
  {
   "cell_type": "code",
   "execution_count": 16,
   "id": "dc239cea-065d-4554-a986-77d815f72da4",
   "metadata": {},
   "outputs": [
    {
     "data": {
      "text/plain": [
       "array([ 5,  7, 63])"
      ]
     },
     "execution_count": 16,
     "metadata": {},
     "output_type": "execute_result"
    }
   ],
   "source": [
    "ar2.sum(axis=0)"
   ]
  },
  {
   "cell_type": "code",
   "execution_count": 18,
   "id": "35065100-ac81-40b6-9fc1-f8b0a6d9c573",
   "metadata": {},
   "outputs": [
    {
     "data": {
      "text/plain": [
       "array([[ 1,  2,  3],\n",
       "       [ 4,  5, 60]])"
      ]
     },
     "execution_count": 18,
     "metadata": {},
     "output_type": "execute_result"
    }
   ],
   "source": [
    "ar2"
   ]
  },
  {
   "cell_type": "code",
   "execution_count": 20,
   "id": "bb9336d9-537d-43c9-acd5-208095384884",
   "metadata": {},
   "outputs": [
    {
     "data": {
      "text/plain": [
       "(2, 3)"
      ]
     },
     "execution_count": 20,
     "metadata": {},
     "output_type": "execute_result"
    }
   ],
   "source": [
    "ar2.shape"
   ]
  },
  {
   "cell_type": "code",
   "execution_count": 22,
   "id": "29599722-cf50-4b65-8923-fd0c8b5d63ab",
   "metadata": {},
   "outputs": [
    {
     "data": {
      "text/plain": [
       "6"
      ]
     },
     "execution_count": 22,
     "metadata": {},
     "output_type": "execute_result"
    }
   ],
   "source": [
    "ar2.size"
   ]
  },
  {
   "cell_type": "code",
   "execution_count": 24,
   "id": "0beb142b-6c7a-46a5-a5ac-ef64e5038394",
   "metadata": {},
   "outputs": [
    {
     "data": {
      "text/plain": [
       "array([[ 1,  2],\n",
       "       [ 3,  4],\n",
       "       [ 5, 60]])"
      ]
     },
     "execution_count": 24,
     "metadata": {},
     "output_type": "execute_result"
    }
   ],
   "source": [
    "ar2.reshape([3,2])"
   ]
  },
  {
   "cell_type": "markdown",
   "id": "f09838f9-fea5-439a-b4c6-814c8f3d3ad9",
   "metadata": {},
   "source": [
    "#statistics"
   ]
  },
  {
   "cell_type": "code",
   "execution_count": 26,
   "id": "b894561f-b53c-4bee-ad2b-73a99f3d17e8",
   "metadata": {},
   "outputs": [
    {
     "data": {
      "text/plain": [
       "12.5"
      ]
     },
     "execution_count": 26,
     "metadata": {},
     "output_type": "execute_result"
    }
   ],
   "source": [
    "np.mean(ar2)"
   ]
  },
  {
   "cell_type": "code",
   "execution_count": 28,
   "id": "e5bfd8b3-9ca1-467f-a769-f8e93779f739",
   "metadata": {},
   "outputs": [
    {
     "data": {
      "text/plain": [
       "array([ 2.5,  3.5, 31.5])"
      ]
     },
     "execution_count": 28,
     "metadata": {},
     "output_type": "execute_result"
    }
   ],
   "source": [
    "np.mean(ar2,axis=0)"
   ]
  },
  {
   "cell_type": "code",
   "execution_count": 32,
   "id": "ea8d1151-2a72-4772-86a9-ae3547856e1f",
   "metadata": {},
   "outputs": [
    {
     "data": {
      "text/plain": [
       "array([ 2., 23.])"
      ]
     },
     "execution_count": 32,
     "metadata": {},
     "output_type": "execute_result"
    }
   ],
   "source": [
    "np.mean(ar2,axis=1)"
   ]
  },
  {
   "cell_type": "code",
   "execution_count": 34,
   "id": "7672e8d6-781e-4ba0-969f-d3a228efe913",
   "metadata": {},
   "outputs": [
    {
     "data": {
      "text/plain": [
       "3.5"
      ]
     },
     "execution_count": 34,
     "metadata": {},
     "output_type": "execute_result"
    }
   ],
   "source": [
    "np.median(ar2)"
   ]
  },
  {
   "cell_type": "code",
   "execution_count": 36,
   "id": "6759318e-ac23-4f23-98e0-a3578fac279e",
   "metadata": {},
   "outputs": [
    {
     "data": {
      "text/plain": [
       "array([2., 5.])"
      ]
     },
     "execution_count": 36,
     "metadata": {},
     "output_type": "execute_result"
    }
   ],
   "source": [
    "np.median(ar2,axis=1)"
   ]
  },
  {
   "cell_type": "code",
   "execution_count": 38,
   "id": "b75c1f63-938a-4284-8d9f-1246f252276c",
   "metadata": {},
   "outputs": [
    {
     "data": {
      "text/plain": [
       "1"
      ]
     },
     "execution_count": 38,
     "metadata": {},
     "output_type": "execute_result"
    }
   ],
   "source": [
    "np.min(ar2)"
   ]
  },
  {
   "cell_type": "code",
   "execution_count": 41,
   "id": "8fbe6982-fcce-4a62-97ac-ffaac56b18d7",
   "metadata": {},
   "outputs": [
    {
     "data": {
      "text/plain": [
       "array([1, 2, 3])"
      ]
     },
     "execution_count": 41,
     "metadata": {},
     "output_type": "execute_result"
    }
   ],
   "source": [
    "np.min(ar2,axis=0)"
   ]
  },
  {
   "cell_type": "code",
   "execution_count": 44,
   "id": "2df09287-fadf-4fc8-97c0-e702e5bf08f5",
   "metadata": {},
   "outputs": [
    {
     "data": {
      "text/plain": [
       "array([ 4,  5, 60])"
      ]
     },
     "execution_count": 44,
     "metadata": {},
     "output_type": "execute_result"
    }
   ],
   "source": [
    "np.max(ar2,axis=0)"
   ]
  },
  {
   "cell_type": "code",
   "execution_count": 46,
   "id": "65297e62-8d76-4cd7-9874-1d690a4bbd4f",
   "metadata": {},
   "outputs": [
    {
     "data": {
      "text/plain": [
       "5"
      ]
     },
     "execution_count": 46,
     "metadata": {},
     "output_type": "execute_result"
    }
   ],
   "source": [
    "np.argmax(ar2)"
   ]
  },
  {
   "cell_type": "code",
   "execution_count": 48,
   "id": "b3448da3-8ad7-46c9-9878-e14cc30477e1",
   "metadata": {},
   "outputs": [
    {
     "data": {
      "text/plain": [
       "0"
      ]
     },
     "execution_count": 48,
     "metadata": {},
     "output_type": "execute_result"
    }
   ],
   "source": [
    "np.argmin(ar2)"
   ]
  },
  {
   "cell_type": "code",
   "execution_count": 50,
   "id": "4e5942da-9bc5-481c-8e2e-34fe946e6990",
   "metadata": {},
   "outputs": [
    {
     "data": {
      "text/plain": [
       "array([[ 0.84147098,  0.90929743,  0.14112001],\n",
       "       [-0.7568025 , -0.95892427, -0.30481062]])"
      ]
     },
     "execution_count": 50,
     "metadata": {},
     "output_type": "execute_result"
    }
   ],
   "source": [
    "np.sin(ar2)"
   ]
  },
  {
   "cell_type": "markdown",
   "id": "9e00d072-ac93-4f67-a6b7-4732e2911635",
   "metadata": {},
   "source": [
    "2 AUG 2024\n",
    "\n"
   ]
  },
  {
   "cell_type": "code",
   "execution_count": 7,
   "id": "c832d3e0-137d-49ff-9ffd-7af8ffab3f37",
   "metadata": {},
   "outputs": [],
   "source": [
    "import numpy as np\n"
   ]
  },
  {
   "cell_type": "code",
   "execution_count": 9,
   "id": "1b7265bc-0da2-48b0-b1fa-99e13c909700",
   "metadata": {},
   "outputs": [
    {
     "data": {
      "text/plain": [
       "array([[1, 2, 4],\n",
       "       [1, 6, 9]])"
      ]
     },
     "execution_count": 9,
     "metadata": {},
     "output_type": "execute_result"
    }
   ],
   "source": [
    "ar2=np.array([[1,2,4],[1,6,9]])\n",
    "ar2"
   ]
  },
  {
   "cell_type": "code",
   "execution_count": 11,
   "id": "7dd08406-7b9a-4c85-80da-076cd604fc67",
   "metadata": {},
   "outputs": [
    {
     "data": {
      "text/plain": [
       "array([[85, 90, 70],\n",
       "       [92, 88, 95],\n",
       "       [76, 95, 85],\n",
       "       [90, 85, 92],\n",
       "       [88, 76, 89]])"
      ]
     },
     "execution_count": 11,
     "metadata": {},
     "output_type": "execute_result"
    }
   ],
   "source": [
    "ar3=np.array([[85,90,70],[92,88,95],[76,95,85],[90,85,92],[88,76,89]])\n",
    "ar3"
   ]
  },
  {
   "cell_type": "code",
   "execution_count": 73,
   "id": "04d55a02-0c62-4254-9289-2d0d0aa7adb3",
   "metadata": {},
   "outputs": [
    {
     "data": {
      "text/plain": [
       "86.4"
      ]
     },
     "execution_count": 73,
     "metadata": {},
     "output_type": "execute_result"
    }
   ],
   "source": [
    "a=np.mean(ar3)\n",
    "a"
   ]
  },
  {
   "cell_type": "code",
   "execution_count": 57,
   "id": "72cc9c48-1c03-433f-80fa-00c31841cc52",
   "metadata": {},
   "outputs": [
    {
     "data": {
      "text/plain": [
       "array([81.66666667, 91.66666667, 85.33333333, 89.        , 84.33333333])"
      ]
     },
     "execution_count": 57,
     "metadata": {},
     "output_type": "execute_result"
    }
   ],
   "source": [
    "np.mean(ar3,axis=1)"
   ]
  },
  {
   "cell_type": "code",
   "execution_count": 55,
   "id": "68b0a980-04e7-41dc-abbf-6bed82b4b641",
   "metadata": {},
   "outputs": [
    {
     "data": {
      "text/plain": [
       "array([88., 88., 89.])"
      ]
     },
     "execution_count": 55,
     "metadata": {},
     "output_type": "execute_result"
    }
   ],
   "source": [
    "np.median(ar3,axis=0)"
   ]
  },
  {
   "cell_type": "code",
   "execution_count": 53,
   "id": "a0338b06-afa1-4260-83b3-bfdd855177c4",
   "metadata": {},
   "outputs": [
    {
     "data": {
      "text/plain": [
       "array([431, 434, 431])"
      ]
     },
     "execution_count": 53,
     "metadata": {},
     "output_type": "execute_result"
    }
   ],
   "source": [
    "np.sum(ar3,axis=0)"
   ]
  },
  {
   "cell_type": "code",
   "execution_count": 51,
   "id": "bbf88109-f142-43f3-b574-881e434e018c",
   "metadata": {},
   "outputs": [
    {
     "data": {
      "text/plain": [
       "array([70, 88, 76, 85, 76])"
      ]
     },
     "execution_count": 51,
     "metadata": {},
     "output_type": "execute_result"
    }
   ],
   "source": [
    "np.min(ar3,axis=1)"
   ]
  },
  {
   "cell_type": "code",
   "execution_count": 25,
   "id": "16969669-54c9-448a-8d58-b305fd96fa4b",
   "metadata": {},
   "outputs": [
    {
     "data": {
      "text/plain": [
       "array([90, 95, 95, 92, 89])"
      ]
     },
     "execution_count": 25,
     "metadata": {},
     "output_type": "execute_result"
    }
   ],
   "source": [
    "np.max(ar3,axis=1)"
   ]
  },
  {
   "cell_type": "code",
   "execution_count": 27,
   "id": "96f3073d-46c6-4932-a8fb-06190afe0543",
   "metadata": {},
   "outputs": [
    {
     "data": {
      "text/plain": [
       "15"
      ]
     },
     "execution_count": 27,
     "metadata": {},
     "output_type": "execute_result"
    }
   ],
   "source": [
    "np.size(ar3)"
   ]
  },
  {
   "cell_type": "code",
   "execution_count": 35,
   "id": "9b1f344f-803c-4a3c-84e6-9d87bc8855f5",
   "metadata": {},
   "outputs": [
    {
     "data": {
      "text/plain": [
       "(5, 3)"
      ]
     },
     "execution_count": 35,
     "metadata": {},
     "output_type": "execute_result"
    }
   ],
   "source": [
    "np.shape(ar3)"
   ]
  },
  {
   "cell_type": "code",
   "execution_count": 39,
   "id": "c311186c-ff7b-4224-addc-35b5ce39a6a6",
   "metadata": {},
   "outputs": [
    {
     "data": {
      "text/plain": [
       "array([[85, 90, 70, 92, 88],\n",
       "       [95, 76, 95, 85, 90],\n",
       "       [85, 92, 88, 76, 89]])"
      ]
     },
     "execution_count": 39,
     "metadata": {},
     "output_type": "execute_result"
    }
   ],
   "source": [
    "ar3.reshape([3,5])"
   ]
  },
  {
   "cell_type": "code",
   "execution_count": 79,
   "id": "17c0706c-3bd8-41d3-b11a-576869852bdc",
   "metadata": {},
   "outputs": [
    {
     "data": {
      "text/plain": [
       "array([1, 2, 1], dtype=int64)"
      ]
     },
     "execution_count": 79,
     "metadata": {},
     "output_type": "execute_result"
    }
   ],
   "source": [
    "np.argmax(ar3,axis=0)"
   ]
  },
  {
   "cell_type": "code",
   "execution_count": 67,
   "id": "24f2c4b7-fb72-4b2e-8bf5-70f273bf3802",
   "metadata": {},
   "outputs": [
    {
     "data": {
      "text/plain": [
       "array([1, 2, 1, 2, 2], dtype=int64)"
      ]
     },
     "execution_count": 67,
     "metadata": {},
     "output_type": "execute_result"
    }
   ],
   "source": [
    "np.argmax(ar3,axis=1)"
   ]
  },
  {
   "cell_type": "code",
   "execution_count": 85,
   "id": "47fb206f-6958-487c-b684-436c9f8f156b",
   "metadata": {},
   "outputs": [
    {
     "data": {
      "text/plain": [
       "array([[76, 76, 70],\n",
       "       [85, 85, 85],\n",
       "       [88, 88, 89],\n",
       "       [90, 90, 92],\n",
       "       [92, 95, 95]])"
      ]
     },
     "execution_count": 85,
     "metadata": {},
     "output_type": "execute_result"
    }
   ],
   "source": [
    "np.sort(ar3,axis=0)"
   ]
  }
 ],
 "metadata": {
  "kernelspec": {
   "display_name": "Python 3 (ipykernel)",
   "language": "python",
   "name": "python3"
  },
  "language_info": {
   "codemirror_mode": {
    "name": "ipython",
    "version": 3
   },
   "file_extension": ".py",
   "mimetype": "text/x-python",
   "name": "python",
   "nbconvert_exporter": "python",
   "pygments_lexer": "ipython3",
   "version": "3.12.4"
  }
 },
 "nbformat": 4,
 "nbformat_minor": 5
}
