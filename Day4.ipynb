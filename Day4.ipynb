{
 "cells": [
  {
   "cell_type": "markdown",
   "id": "9fadba55-da3e-4ebd-bf95-3592ae16e76c",
   "metadata": {},
   "source": [
    "You are given a 2D numpy array representing exam scores of students in different subjects. The array has shape (5,3) where each row repesents a student and each column represents a subject ( math , science , english ).\n",
    "\n",
    "scores = np.array([85,90,78] ,\n",
    "                  [92,88,95] , \n",
    "                  [76,95,85] ,\n",
    "                  [90,85,92] ,\n",
    "                  [88,76,89] ,])\n",
    "\n",
    "Using Numpy , perform the following tasks:\n",
    "1. cal the mean score of each subject ( across all students).\n",
    "2. find the median score of each student ( acrossall the students).\n",
    "3. Extract the scores of the student with the highest total score ( sum of all subjects).\n",
    "4. Find the minimum and maximum scores in each subjects.\n",
    "5. Reshape the array to have shape (3,5) where each row represents a subject.\n",
    "6. Sort the scores of each subject in ascending order.\n",
    "Note : Provide the code to accomplish each task , and include comments to explain your thoughts process."
   ]
  },
  {
   "cell_type": "code",
   "execution_count": 37,
   "id": "d33154c6-e719-4211-8f52-1db2b451b4a2",
   "metadata": {},
   "outputs": [],
   "source": [
    "import numpy as np\n",
    "\n",
    "scores = np.array([[85,90,78] ,\n",
    "                  [92,88,95] ,\n",
    "                  [76,95,85] ,\n",
    "                  [90,85,92] ,\n",
    "                  [88,76,89]] )"
   ]
  },
  {
   "cell_type": "code",
   "execution_count": 38,
   "id": "29cf216b-c9a6-48ee-9358-2637f0bf49ca",
   "metadata": {},
   "outputs": [
    {
     "data": {
      "text/plain": [
       "array([84.33333333, 91.66666667, 85.33333333, 89.        , 84.33333333])"
      ]
     },
     "execution_count": 38,
     "metadata": {},
     "output_type": "execute_result"
    }
   ],
   "source": [
    "#Finding mean\n",
    "np.mean(scores , axis=1)"
   ]
  },
  {
   "cell_type": "code",
   "execution_count": 39,
   "id": "d4a9fa36-aaac-43dd-916b-546756e2c209",
   "metadata": {},
   "outputs": [
    {
     "data": {
      "text/plain": [
       "array([85., 92., 85., 90., 88.])"
      ]
     },
     "execution_count": 39,
     "metadata": {},
     "output_type": "execute_result"
    }
   ],
   "source": [
    "#finding median score of each stident\n",
    "np.median(scores,axis=1)  "
   ]
  },
  {
   "cell_type": "code",
   "execution_count": 40,
   "id": "65b2d301-df77-4d08-9e33-2a765b00f325",
   "metadata": {},
   "outputs": [
    {
     "name": "stdout",
     "output_type": "stream",
     "text": [
      "[253 275 256 267 253]\n"
     ]
    }
   ],
   "source": [
    "#extracting the scores with highest total score\n",
    "i=np.sum(scores , axis=1)\n",
    "print(i)"
   ]
  },
  {
   "cell_type": "code",
   "execution_count": 41,
   "id": "2f545794-c52a-4441-b231-f9c1bca7bebf",
   "metadata": {},
   "outputs": [
    {
     "data": {
      "text/plain": [
       "np.int64(1)"
      ]
     },
     "execution_count": 41,
     "metadata": {},
     "output_type": "execute_result"
    }
   ],
   "source": [
    "index=np.argmax(i)\n",
    "index"
   ]
  },
  {
   "cell_type": "code",
   "execution_count": 44,
   "id": "2d82c84d-8cf7-4324-988b-22b6e1f2753a",
   "metadata": {},
   "outputs": [
    {
     "data": {
      "text/plain": [
       "array([92, 88, 95])"
      ]
     },
     "execution_count": 44,
     "metadata": {},
     "output_type": "execute_result"
    }
   ],
   "source": [
    "scores[index]"
   ]
  },
  {
   "cell_type": "code",
   "execution_count": 46,
   "id": "e9e1bfd1-e1da-431a-9d1b-337037981578",
   "metadata": {},
   "outputs": [
    {
     "name": "stdout",
     "output_type": "stream",
     "text": [
      "[253 275 256 267 253]\n",
      "[78 88 76 85 76]\n"
     ]
    }
   ],
   "source": [
    "# max & min\n",
    "np.max(i)\n",
    "print(i)\n",
    "miin=np.min(scores,axis=1)\n",
    "print(miin)"
   ]
  },
  {
   "cell_type": "code",
   "execution_count": 47,
   "id": "16c5f8d0-a3d6-46c3-93e7-1d001304c53c",
   "metadata": {},
   "outputs": [
    {
     "data": {
      "text/plain": [
       "array([[85, 90, 78, 92, 88],\n",
       "       [95, 76, 95, 85, 90],\n",
       "       [85, 92, 88, 76, 89]])"
      ]
     },
     "execution_count": 47,
     "metadata": {},
     "output_type": "execute_result"
    }
   ],
   "source": [
    "#reshaping the array into (3,5)\n",
    "np.reshape(scores,(3,5))"
   ]
  },
  {
   "cell_type": "code",
   "execution_count": 49,
   "id": "deee2eac-80df-455b-83c4-60a38b5ceb61",
   "metadata": {},
   "outputs": [
    {
     "data": {
      "text/plain": [
       "array([[78, 85, 90],\n",
       "       [88, 92, 95],\n",
       "       [76, 85, 95],\n",
       "       [85, 90, 92],\n",
       "       [76, 88, 89]])"
      ]
     },
     "execution_count": 49,
     "metadata": {},
     "output_type": "execute_result"
    }
   ],
   "source": [
    "#ascending order\n",
    "np.sort(scores)"
   ]
  },
  {
   "cell_type": "code",
   "execution_count": 51,
   "id": "6ffa0410-61ec-4f47-8199-35801841afaa",
   "metadata": {},
   "outputs": [
    {
     "data": {
      "text/plain": [
       "array([[92, 95, 95],\n",
       "       [90, 90, 92],\n",
       "       [88, 88, 89],\n",
       "       [85, 85, 85],\n",
       "       [76, 76, 78]])"
      ]
     },
     "execution_count": 51,
     "metadata": {},
     "output_type": "execute_result"
    }
   ],
   "source": [
    "#descending\n",
    "np.sort(scores,axis=0)[:: -1]"
   ]
  }
 ],
 "metadata": {
  "kernelspec": {
   "display_name": "Python 3 (ipykernel)",
   "language": "python",
   "name": "python3"
  },
  "language_info": {
   "codemirror_mode": {
    "name": "ipython",
    "version": 3
   },
   "file_extension": ".py",
   "mimetype": "text/x-python",
   "name": "python",
   "nbconvert_exporter": "python",
   "pygments_lexer": "ipython3",
   "version": "3.12.4"
  }
 },
 "nbformat": 4,
 "nbformat_minor": 5
}
